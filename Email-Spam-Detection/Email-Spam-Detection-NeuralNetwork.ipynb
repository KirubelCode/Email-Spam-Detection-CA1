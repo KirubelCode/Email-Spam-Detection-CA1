{
 "cells": [
  {
   "cell_type": "code",
   "execution_count": null,
   "metadata": {},
   "outputs": [],
   "source": [
    "# Produced by: Kirubel Temesgen\n",
    "# College ID: C00260396\n",
    "# Description: Neural Network (MLP) for Spam Email Classification\n"
   ]
  },
  {
   "cell_type": "code",
   "execution_count": null,
   "metadata": {},
   "outputs": [],
   "source": [
    "\n",
    "import pandas as pd\n",
    "import numpy as np\n",
    "import re\n",
    "\n",
    "file_path = r\"D:\\college\\Sem2\\DataSci ML\\archive\\emails.csv\"\n",
    "df = pd.read_csv(file_path)\n",
    "\n",
    "def extract_email_parts(email):\n",
    "    from_ = re.search(r'From: (.+)', email)\n",
    "    subject = re.search(r'Subject: (.*)', email)\n",
    "    body = re.search(r'\\n\\n(.*)', email, re.DOTALL)\n",
    "    return {\n",
    "        \"From\": from_.group(1).strip() if from_ else None,\n",
    "        \"Subject\": subject.group(1).strip() if subject else None,\n",
    "        \"Body\": body.group(1).strip() if body else None\n",
    "    }\n",
    "\n",
    "parts = df['message'].apply(extract_email_parts)\n",
    "df = pd.concat([df, pd.DataFrame(parts.tolist())], axis=1)\n",
    "df = df.dropna(subset=[\"From\", \"Subject\", \"Body\"])\n"
   ]
  },
  {
   "cell_type": "code",
   "execution_count": null,
   "metadata": {},
   "outputs": [],
   "source": [
    "def clean(text):\n",
    "    text = text.lower()\n",
    "    text = re.sub(r'\\b(re|fw)\\b', '', text)\n",
    "    text = re.sub(r'\\W+', ' ', text)\n",
    "    text = re.sub(r'\\d+', '', text)\n",
    "    return re.sub(r'\\s+', ' ', text).strip()\n",
    "\n",
    "df[\"Processed_Subject\"] = df[\"Subject\"].apply(clean)\n",
    "df[\"Processed_Body\"] = df[\"Body\"].apply(clean)\n",
    "\n",
    "# Spam keywords\n",
    "keywords = [\"win\", \"lottery\", \"free\", \"offer\", \"click here\", \"urgent\", \"claim\", \"money\", \"prize\", \"limited time\"]\n",
    "pattern = re.compile(r'\\b(' + '|'.join(keywords) + r')\\b', re.IGNORECASE)\n",
    "\n",
    "# Rule based spam classification\n",
    "def is_spam(row):\n",
    "    s = row[\"Processed_Subject\"]\n",
    "    b = row[\"Processed_Body\"]\n",
    "    f = row[\"From\"]\n",
    "    score = 0\n",
    "    score += 1 if pattern.search(s) else 0\n",
    "    score += 1 if pattern.search(b) else 0\n",
    "    score += 2 if f and not f.endswith(\"@enron.com\") else 0\n",
    "    return 1 if score >= 3 else 0\n",
    "\n",
    "df[\"Spam_Label\"] = df.apply(is_spam, axis=1)\n"
   ]
  },
  {
   "cell_type": "code",
   "execution_count": null,
   "metadata": {},
   "outputs": [],
   "source": [
    "from sklearn.feature_extraction.text import TfidfVectorizer\n",
    "from sklearn.model_selection import train_test_split\n",
    "from scipy.sparse import hstack\n",
    "\n",
    "tfidf = TfidfVectorizer(stop_words=\"english\", max_features=1000, ngram_range=(1,2))\n",
    "tfidf_subject = tfidf.fit_transform(df[\"Processed_Subject\"])\n",
    "tfidf_body = tfidf.fit_transform(df[\"Processed_Body\"])\n",
    "X = hstack([tfidf_subject, tfidf_body])\n",
    "y = df[\"Spam_Label\"].values\n",
    "\n",
    "X_train, X_test, y_train, y_test = train_test_split(X, y, test_size=0.2, random_state=42)\n"
   ]
  },
  {
   "cell_type": "code",
   "execution_count": null,
   "metadata": {},
   "outputs": [],
   "source": [
    "from sklearn.neural_network import MLPClassifier\n",
    "from sklearn.metrics import accuracy_score, classification_report, confusion_matrix\n",
    "import seaborn as sns\n",
    "import matplotlib.pyplot as plt\n",
    "\n",
    "model = MLPClassifier(hidden_layer_sizes=(64,), activation='relu', solver='adam', max_iter=100, random_state=42)\n",
    "model.fit(X_train, y_train)\n",
    "\n",
    "y_pred = model.predict(X_test)\n",
    "\n",
    "print(\"Neural Network Accuracy:\", accuracy_score(y_test, y_pred))\n",
    "print(\"\\nClassification Report:\\n\", classification_report(y_test, y_pred))\n",
    "\n",
    "plt.figure(figsize=(6,4))\n",
    "sns.heatmap(confusion_matrix(y_test, y_pred), annot=True, fmt='d', cmap=\"Purples\",\n",
    "            xticklabels=[\"Not Spam\", \"Spam\"], yticklabels=[\"Not Spam\", \"Spam\"])\n",
    "plt.xlabel(\"Predicted\")\n",
    "plt.ylabel(\"Actual\")\n",
    "plt.title(\"Confusion Matrix - Neural Network\")\n",
    "plt.show()\n"
   ]
  }
 ],
 "metadata": {
  "kernelspec": {
   "display_name": "Python 3",
   "language": "python",
   "name": "python3"
  },
  "language_info": {
   "codemirror_mode": {
    "name": "ipython",
    "version": 3
   },
   "file_extension": ".py",
   "mimetype": "text/x-python",
   "name": "python",
   "nbconvert_exporter": "python",
   "pygments_lexer": "ipython3",
   "version": "3.11.9"
  }
 },
 "nbformat": 4,
 "nbformat_minor": 2
}
